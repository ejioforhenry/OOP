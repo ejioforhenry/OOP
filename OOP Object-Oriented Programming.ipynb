{
 "cells": [
  {
   "cell_type": "markdown",
   "id": "035f17ff",
   "metadata": {},
   "source": [
    "#  Object-Oriented Programming (OOP)"
   ]
  },
  {
   "cell_type": "code",
   "execution_count": 1,
   "id": "84da3d4a",
   "metadata": {},
   "outputs": [],
   "source": [
    "class Employee:\n",
    "    salary = 350000"
   ]
  },
  {
   "cell_type": "code",
   "execution_count": 2,
   "id": "db60de4b",
   "metadata": {},
   "outputs": [
    {
     "name": "stdout",
     "output_type": "stream",
     "text": [
      "350000\n"
     ]
    }
   ],
   "source": [
    "kemi = Employee()\n",
    "\n",
    "print(kemi.salary)"
   ]
  },
  {
   "cell_type": "code",
   "execution_count": 3,
   "id": "be008ce5",
   "metadata": {},
   "outputs": [
    {
     "data": {
      "text/plain": [
       "350000"
      ]
     },
     "execution_count": 3,
     "metadata": {},
     "output_type": "execute_result"
    }
   ],
   "source": [
    "kemi.salary"
   ]
  },
  {
   "cell_type": "code",
   "execution_count": 6,
   "id": "0b36eafe",
   "metadata": {},
   "outputs": [],
   "source": [
    "class Employee:\n",
    "    def __init__(self, name, age, sal, position, dept, ms):\n",
    "        self.name = name\n",
    "        self.age = age\n",
    "        self.salary = sal\n",
    "        self.position = position\n",
    "        self.department = dept\n",
    "        self.marrital_status = ms\n",
    "        \n",
    "    def add_age(self):\n",
    "        self.age += 1\n",
    "        \n",
    "    def get_age(self):\n",
    "        return 'Age is {}'.format(self.age)\n",
    "    "
   ]
  },
  {
   "cell_type": "code",
   "execution_count": 7,
   "id": "5866599d",
   "metadata": {},
   "outputs": [],
   "source": [
    "staff_1 = Employee('Kemi', 25, 500000, 'manager', 'Finance', 'married')"
   ]
  },
  {
   "cell_type": "code",
   "execution_count": 8,
   "id": "a3418b89",
   "metadata": {},
   "outputs": [
    {
     "data": {
      "text/plain": [
       "'Kemi'"
      ]
     },
     "execution_count": 8,
     "metadata": {},
     "output_type": "execute_result"
    }
   ],
   "source": [
    "staff_1.name"
   ]
  },
  {
   "cell_type": "code",
   "execution_count": 9,
   "id": "df7f28ae",
   "metadata": {},
   "outputs": [],
   "source": [
    "staff_2 = Employee('Chris', 32, 250000, 'associate', 'HR', 'single')"
   ]
  },
  {
   "cell_type": "code",
   "execution_count": 10,
   "id": "f2b166e9",
   "metadata": {},
   "outputs": [
    {
     "data": {
      "text/plain": [
       "'Chris'"
      ]
     },
     "execution_count": 10,
     "metadata": {},
     "output_type": "execute_result"
    }
   ],
   "source": [
    "staff_2.name"
   ]
  },
  {
   "cell_type": "code",
   "execution_count": 11,
   "id": "b8e95f59",
   "metadata": {},
   "outputs": [
    {
     "data": {
      "text/plain": [
       "33"
      ]
     },
     "execution_count": 11,
     "metadata": {},
     "output_type": "execute_result"
    }
   ],
   "source": [
    "staff_2.add_age()\n",
    "staff_2.age"
   ]
  },
  {
   "cell_type": "code",
   "execution_count": 12,
   "id": "2166f5eb",
   "metadata": {},
   "outputs": [
    {
     "data": {
      "text/plain": [
       "'Age is 33'"
      ]
     },
     "execution_count": 12,
     "metadata": {},
     "output_type": "execute_result"
    }
   ],
   "source": [
    "staff_2.get_age()"
   ]
  },
  {
   "cell_type": "code",
   "execution_count": 13,
   "id": "4f744fe4",
   "metadata": {},
   "outputs": [
    {
     "data": {
      "text/plain": [
       "'Age is 25'"
      ]
     },
     "execution_count": 13,
     "metadata": {},
     "output_type": "execute_result"
    }
   ],
   "source": [
    "staff_1.get_age()"
   ]
  },
  {
   "cell_type": "code",
   "execution_count": 14,
   "id": "f557cab6",
   "metadata": {},
   "outputs": [],
   "source": [
    "staff_1.add_age()"
   ]
  },
  {
   "cell_type": "code",
   "execution_count": 15,
   "id": "1bcabfb3",
   "metadata": {},
   "outputs": [
    {
     "data": {
      "text/plain": [
       "26"
      ]
     },
     "execution_count": 15,
     "metadata": {},
     "output_type": "execute_result"
    }
   ],
   "source": [
    "staff_1.age"
   ]
  },
  {
   "cell_type": "code",
   "execution_count": 17,
   "id": "573b27bb",
   "metadata": {},
   "outputs": [
    {
     "data": {
      "text/plain": [
       "'Age is 26'"
      ]
     },
     "execution_count": 17,
     "metadata": {},
     "output_type": "execute_result"
    }
   ],
   "source": [
    "staff_1.get_age()"
   ]
  },
  {
   "cell_type": "markdown",
   "id": "bd5a9893",
   "metadata": {},
   "source": [
    "### OOP CONCEPTS"
   ]
  },
  {
   "cell_type": "markdown",
   "id": "8c649a85",
   "metadata": {},
   "source": [
    "Encapsulation\n",
    "\n",
    "Inheritance\n",
    "\n",
    "polymorphism\n",
    "\n",
    "Abstraction"
   ]
  },
  {
   "cell_type": "markdown",
   "id": "93d06e9f",
   "metadata": {},
   "source": [
    "# Encapsulation"
   ]
  },
  {
   "cell_type": "code",
   "execution_count": 30,
   "id": "c19f1d3e",
   "metadata": {},
   "outputs": [],
   "source": [
    "class Sports:\n",
    "    def __init__(self):\n",
    "        self.__sportsname = 'Soccer'\n",
    "        \n",
    "    def game(self):\n",
    "        print('The game is: {}'.format(self.__sportsname))\n",
    "        \n",
    "   \n",
    "    def change_name(self, name):\n",
    "        self.__sportsname = name"
   ]
  },
  {
   "cell_type": "code",
   "execution_count": 31,
   "id": "4dd7dce0",
   "metadata": {},
   "outputs": [
    {
     "name": "stdout",
     "output_type": "stream",
     "text": [
      "The game is: Soccer\n"
     ]
    }
   ],
   "source": [
    "s = Sports()\n",
    "s.game()"
   ]
  },
  {
   "cell_type": "code",
   "execution_count": 34,
   "id": "7ca9ca28",
   "metadata": {},
   "outputs": [
    {
     "name": "stdout",
     "output_type": "stream",
     "text": [
      "The game is: Hockey\n"
     ]
    }
   ],
   "source": [
    "# cannot change name of a private content directly\n",
    "\n",
    "s.__sportsname = 'Hockey'\n",
    "s.game()"
   ]
  },
  {
   "cell_type": "code",
   "execution_count": 35,
   "id": "2f90c9e0",
   "metadata": {},
   "outputs": [
    {
     "name": "stdout",
     "output_type": "stream",
     "text": [
      "The game is: Hockey\n"
     ]
    }
   ],
   "source": [
    "# changed name using the method you created\n",
    "\n",
    "s.change_name('Hockey')\n",
    "s.game()"
   ]
  },
  {
   "cell_type": "code",
   "execution_count": null,
   "id": "5cfe17ad",
   "metadata": {},
   "outputs": [],
   "source": []
  }
 ],
 "metadata": {
  "kernelspec": {
   "display_name": "Python 3 (ipykernel)",
   "language": "python",
   "name": "python3"
  },
  "language_info": {
   "codemirror_mode": {
    "name": "ipython",
    "version": 3
   },
   "file_extension": ".py",
   "mimetype": "text/x-python",
   "name": "python",
   "nbconvert_exporter": "python",
   "pygments_lexer": "ipython3",
   "version": "3.9.12"
  }
 },
 "nbformat": 4,
 "nbformat_minor": 5
}
